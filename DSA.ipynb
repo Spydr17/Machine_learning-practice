{
 "cells": [
  {
   "cell_type": "code",
   "execution_count": 34,
   "id": "1ef2298a-e0af-47e0-9929-bf81331f5884",
   "metadata": {},
   "outputs": [
    {
     "name": "stdin",
     "output_type": "stream",
     "text": [
      "Enter a number:\t 1000\n"
     ]
    },
    {
     "name": "stdout",
     "output_type": "stream",
     "text": [
      "[2, 3, 5, 7, 11, 13, 17, 19, 23, 29, 31, 37, 41, 43, 47, 53, 59, 61, 67, 71, 73, 79, 83, 89, 97, 101, 103, 107, 109, 113, 127, 131, 137, 139, 149, 151, 157, 163, 167, 173, 179, 181, 191, 193, 197, 199, 211, 223, 227, 229, 233, 239, 241, 251, 257, 263, 269, 271, 277, 281, 283, 293, 307, 311, 313, 317, 331, 337, 347, 349, 353, 359, 367, 373, 379, 383, 389, 397, 401, 409, 419, 421, 431, 433, 439, 443, 449, 457, 461, 463, 467, 479, 487, 491, 499, 503, 509, 521, 523, 541, 547, 557, 563, 569, 571, 577, 587, 593, 599, 601, 607, 613, 617, 619, 631, 641, 643, 647, 653, 659, 661, 673, 677, 683, 691, 701, 709, 719, 727, 733, 739, 743, 751, 757, 761, 769, 773, 787, 797, 809, 811, 821, 823, 827, 829, 839, 853, 857, 859, 863, 877, 881, 883, 887, 907, 911, 919, 929, 937, 941, 947, 953, 967, 971, 977, 983, 991, 997]\n"
     ]
    }
   ],
   "source": [
    "list = []\n",
    "N =  int(input(\"Enter a number:\\t\"))\n",
    "for i in range(2,N):\n",
    "    is_prime = True\n",
    "    for j in range(2,i):\n",
    "        if (i%j==0):\n",
    "            is_prime= False\n",
    "            break\n",
    "    if (is_prime):\n",
    "        list.append(i)\n",
    "print(list)"
   ]
  },
  {
   "cell_type": "code",
   "execution_count": 62,
   "id": "6cc46572-b9ed-45b3-ae1f-ae7d68dba5ba",
   "metadata": {},
   "outputs": [
    {
     "name": "stdin",
     "output_type": "stream",
     "text": [
      "Enter a number:\t 50\n"
     ]
    },
    {
     "name": "stdout",
     "output_type": "stream",
     "text": [
      "[1, 3, 5, 7, 9, 11, 13, 15, 17, 19, 21, 23, 25, 27, 29, 31, 33, 35, 37, 39, 41, 43, 45, 47]\n"
     ]
    }
   ],
   "source": [
    "N = int(input(\"Enter a number:\\t\"))\n",
    "list=[]\n",
    "sum = 0\n",
    "for i in range(1,int(N/2)):\n",
    "    sum = i+(i-1)\n",
    "    list.append(sum)\n",
    "print(list)"
   ]
  },
  {
   "cell_type": "code",
   "execution_count": 4,
   "id": "08ccda6f-4254-49b7-9337-6db51af078b8",
   "metadata": {},
   "outputs": [
    {
     "name": "stdout",
     "output_type": "stream",
     "text": [
      "ramesh is my name and i am 30 year old\n"
     ]
    }
   ],
   "source": [
    "class person():\n",
    "    def __init__(self,name=None,age=None):\n",
    "        self.name = name\n",
    "        self.age = age\n",
    "    def show(self):\n",
    "        print(f\"{self.name} is my name and i am {self.age} year old\")\n",
    "person_1 = person(\"ramesh\",30)\n",
    "person_1.show()"
   ]
  },
  {
   "cell_type": "code",
   "execution_count": 40,
   "id": "692acda1-ebaa-451c-a17c-5ab9a475b5f1",
   "metadata": {},
   "outputs": [
    {
     "name": "stdout",
     "output_type": "stream",
     "text": [
      "radius :\t 7\n",
      "area 153.86\n",
      "circum 43.96\n"
     ]
    }
   ],
   "source": [
    "class circle():\n",
    "    def __init__(self,radius):\n",
    "        self.radius = radius\n",
    "    def set_radius(self,radius):\n",
    "        self.radius = radius\n",
    "    def get_radius(self):\n",
    "        return self.radius\n",
    "    def get_area(self):\n",
    "        return 3.14 * self.radius *self.radius\n",
    "    def circumfarance(self):\n",
    "        circum = 2* 3.14 * self.radius\n",
    "        return circum\n",
    "circle_ = circle(5)\n",
    "circle_.set_radius(7)\n",
    "print(\"radius :\\t\",circle_.get_radius())\n",
    "print(\"area\",circle_.get_area())\n",
    "print(\"circum\",circle_.circumfarance())"
   ]
  },
  {
   "cell_type": "code",
   "execution_count": 24,
   "id": "d95632e4-edad-4845-96be-7753fd2702b7",
   "metadata": {},
   "outputs": [
    {
     "name": "stdout",
     "output_type": "stream",
     "text": [
      "dimentions:\t (15, 10)\n",
      "area 150\n"
     ]
    }
   ],
   "source": [
    "class rectangle():\n",
    "    def __init__ (self,length,breadth):\n",
    "        self.length = length\n",
    "        self.breadth = breadth\n",
    "    def setDimention(self,length,breadth):\n",
    "        self.length = length\n",
    "        self.breadth = breadth\n",
    "    def getDimention(self):\n",
    "        return (self.length,self.breadth)\n",
    "    def area(self):\n",
    "        return self.length * self.breadth\n",
    "rect_angle = rectangle(15,10)\n",
    "rect_angle.setDimention(15,10)\n",
    "print(\"dimentions:\\t\",rect_angle.getDimention())\n",
    "print(\"area\",rect_angle.area())"
   ]
  },
  {
   "cell_type": "code",
   "execution_count": 27,
   "id": "22053adb-d180-4927-a0f7-76f016ddd3f9",
   "metadata": {},
   "outputs": [
    {
     "name": "stdout",
     "output_type": "stream",
     "text": [
      "book details:\t (101, 'gita', 350)\n"
     ]
    }
   ],
   "source": [
    "class book():\n",
    "    def __init__ (self,bookid,title,price):\n",
    "        self.bookid = bookid\n",
    "        self.title =  title\n",
    "        self.price = price\n",
    "    def ShowDetails(self):\n",
    "        return (self.bookid,self.title,self.price)\n",
    "book1 = book(101,\"gita\",350)\n",
    "print(\"book details:\\t\",book1.ShowDetails())"
   ]
  },
  {
   "cell_type": "code",
   "execution_count": 7,
   "id": "c66c1ee1-01f9-44bf-8750-df469986db12",
   "metadata": {},
   "outputs": [
    {
     "name": "stdin",
     "output_type": "stream",
     "text": [
      "Enter a number:\t hey\n"
     ]
    },
    {
     "ename": "ValueError",
     "evalue": "invalid literal for int() with base 10: 'hey'",
     "output_type": "error",
     "traceback": [
      "\u001b[0;31m---------------------------------------------------------------------------\u001b[0m",
      "\u001b[0;31mValueError\u001b[0m                                Traceback (most recent call last)",
      "Cell \u001b[0;32mIn[7], line 8\u001b[0m\n\u001b[1;32m      6\u001b[0m         \u001b[38;5;28mlist\u001b[39m \u001b[38;5;241m=\u001b[39m[]\n\u001b[1;32m      7\u001b[0m         \u001b[38;5;28mlist\u001b[39m\u001b[38;5;241m.\u001b[39mappend(team_member)\n\u001b[0;32m----> 8\u001b[0m team \u001b[38;5;241m=\u001b[39m team(\u001b[38;5;124m\"\u001b[39m\u001b[38;5;124mhey\u001b[39m\u001b[38;5;124m\"\u001b[39m)\n",
      "Cell \u001b[0;32mIn[7], line 3\u001b[0m, in \u001b[0;36mteam.__init__\u001b[0;34m(self, team_member)\u001b[0m\n\u001b[1;32m      2\u001b[0m \u001b[38;5;28;01mdef\u001b[39;00m \u001b[38;5;21m__init__\u001b[39m (\u001b[38;5;28mself\u001b[39m, team_member):\n\u001b[0;32m----> 3\u001b[0m     team_member \u001b[38;5;241m=\u001b[39m  \u001b[38;5;28mint\u001b[39m(\u001b[38;5;28minput\u001b[39m(\u001b[38;5;124m\"\u001b[39m\u001b[38;5;124mEnter a number:\u001b[39m\u001b[38;5;130;01m\\t\u001b[39;00m\u001b[38;5;124m\"\u001b[39m))\n\u001b[1;32m      4\u001b[0m     \u001b[38;5;28mself\u001b[39m\u001b[38;5;241m.\u001b[39mteam_member \u001b[38;5;241m=\u001b[39m team_member\n",
      "\u001b[0;31mValueError\u001b[0m: invalid literal for int() with base 10: 'hey'"
     ]
    }
   ],
   "source": [
    "class team():\n",
    "    def __init__ (self, team_member):\n",
    "        team_member =  int(input(\"Enter a number:\\t\"))\n",
    "        self.team_member = team_member\n",
    "    def show_member(self):\n",
    "        list =[]\n",
    "        list.append(team_member)\n",
    "team = team(\"hey\")"
   ]
  },
  {
   "cell_type": "code",
   "execution_count": 2,
   "id": "a9b2d8fe-7161-470c-993c-5b711d7e7d23",
   "metadata": {},
   "outputs": [],
   "source": [
    "class Node:\n",
    "    def __init__(self,item,next):\n",
    "        self.item = item\n",
    "        self.next = next\n",
    "class SLL:\n",
    "    def __init__(self,start=None):\n",
    "        self.start = start\n",
    "    def is_empty(self):\n",
    "        return self.start = None\n",
    "    def insert_at_start(self,data):\n",
    "        n=Node(data,self.start)\n",
    "        self.start=n\n",
    "    def inset_at_end(self,data):\n",
    "        n=Node(data)\n",
    "        if not self.is_empty():\n",
    "            temp=self.start\n",
    "            while temp.next is not None:\n",
    "                temp = temp.next\n",
    "            temp.next = n\n",
    "        else:\n",
    "            self.start=n\n",
    "    def search(self)\n",
    "        "
   ]
  },
  {
   "cell_type": "code",
   "execution_count": 1,
   "id": "53213e79-d883-41d5-9e7a-c9f047946806",
   "metadata": {},
   "outputs": [
    {
     "ename": "SyntaxError",
     "evalue": "invalid syntax (1057691289.py, line 6)",
     "output_type": "error",
     "traceback": [
      "\u001b[0;36m  Cell \u001b[0;32mIn[1], line 6\u001b[0;36m\u001b[0m\n\u001b[0;31m    pdf_link = soup.find(\"a\", string=\"Download PDF\" or contains=\"PDF\")  # Adjust text as needed\u001b[0m\n\u001b[0m                                                               ^\u001b[0m\n\u001b[0;31mSyntaxError\u001b[0m\u001b[0;31m:\u001b[0m invalid syntax\n"
     ]
    }
   ],
   "source": [
    "import requests\n",
    "from bs4 import BeautifulSoup\n",
    "url = \"https://www.pdffiller.com/jsfiller-desk12/?flat_pdf_quality=high&mode=ref&lang=en&ref=https%3A%2F%2Fwww.pdffiller.com%2Fen%2Fforms%2Fdashboard&projectId=1501067056&PAGE_REARRANGE_V2_MVP=true&richTextFormatting=true&isPageRearrangeV2MVP=true&jsf-page-rearrange-v2=true&jsf-dss-v2=false&LATEST_PDFJS=true&jsf-document-scroll-zoom=true&jsf-redesign-full=true&act-notary-pro-integration=false&jsf-pdfjs-fourth=false&routeId=e7f0ec0412e8aab05414e69554d2c51d#fb4bab11a1df4c61b93aecaa4a91b25a\"  # Replace with the actual URL\n",
    "response = requests.get(url)\n",
    "soup = BeautifulSoup(response.content, \"html.parser\")\n",
    "pdf_link = soup.find(\"a\", string=\"Download PDF\" or contains=\"PDF\")  # Adjust text as needed\n",
    "if pdf_link:\n",
    "    pdf_url = pdf_link[\"https://www.pdffiller.com/jsfiller-desk12/?flat_pdf_quality=high&mode=ref&lang=en&ref=https%3A%2F%2Fwww.pdffiller.com%2Fen%2Fforms%2Fdashboard&projectId=1501067056&PAGE_REARRANGE_V2_MVP=true&richTextFormatting=true&isPageRearrangeV2MVP=true&jsf-page-rearrange-v2=true&jsf-dss-v2=false&LATEST_PDFJS=true&jsf-document-scroll-zoom=true&jsf-redesign-full=true&act-notary-pro-integration=false&jsf-pdfjs-fourth=false&routeId=e7f0ec0412e8aab05414e69554d2c51d#fb4bab11a1df4c61b93aecaa4a91b25a\"]\n",
    "else:\n",
    "    print(\"PDF link not found\")\n",
    "pdf_link = soup.find(\"a\", download=True)  # Look for links with a download attribute\n",
    "if pdf_link:\n",
    "    pdf_url = pdf_link[\"https://www.pdffiller.com/jsfiller-desk12/?flat_pdf_quality=high&mode=ref&lang=en&ref=https%3A%2F%2Fwww.pdffiller.com%2Fen%2Fforms%2Fdashboard&projectId=1501067056&PAGE_REARRANGE_V2_MVP=true&richTextFormatting=true&isPageRearrangeV2MVP=true&jsf-page-rearrange-v2=true&jsf-dss-v2=false&LATEST_PDFJS=true&jsf-document-scroll-zoom=true&jsf-redesign-full=true&act-notary-pro-integration=false&jsf-pdfjs-fourth=false&routeId=e7f0ec0412e8aab05414e69554d2c51d#fb4bab11a1df4c61b93aecaa4a91b25a\"]\n",
    "else:\n",
    "    print(\"PDF link not found\")\n",
    "if pdf_url:\n",
    "    pdf_response = requests.get(pdf_url, stream=True)\n",
    "    if pdf_response.status_code == 200:\n",
    "        with open(\"downloaded_pdf.pdf\", \"wb\") as f:\n",
    "            for chunk in pdf_response.iter_content(1024):\n",
    "                f.write(chunk)\n",
    "        print(\"PDF downloaded successfully!\")\n",
    "    else:\n",
    "        print(f\"Error downloading PDF: {pdf_response.status_code}\")\n"
   ]
  },
  {
   "cell_type": "code",
   "execution_count": null,
   "id": "c7ebc0da-afa6-4015-ba73-6c357c9a3330",
   "metadata": {},
   "outputs": [],
   "source": []
  }
 ],
 "metadata": {
  "kernelspec": {
   "display_name": "Python 3 (ipykernel)",
   "language": "python",
   "name": "python3"
  },
  "language_info": {
   "codemirror_mode": {
    "name": "ipython",
    "version": 3
   },
   "file_extension": ".py",
   "mimetype": "text/x-python",
   "name": "python",
   "nbconvert_exporter": "python",
   "pygments_lexer": "ipython3",
   "version": "3.11.7"
  }
 },
 "nbformat": 4,
 "nbformat_minor": 5
}
