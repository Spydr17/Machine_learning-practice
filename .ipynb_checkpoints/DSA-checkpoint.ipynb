{
 "cells": [
  {
   "cell_type": "code",
   "execution_count": 34,
   "id": "1ef2298a-e0af-47e0-9929-bf81331f5884",
   "metadata": {},
   "outputs": [
    {
     "name": "stdin",
     "output_type": "stream",
     "text": [
      "Enter a number:\t 1000\n"
     ]
    },
    {
     "name": "stdout",
     "output_type": "stream",
     "text": [
      "[2, 3, 5, 7, 11, 13, 17, 19, 23, 29, 31, 37, 41, 43, 47, 53, 59, 61, 67, 71, 73, 79, 83, 89, 97, 101, 103, 107, 109, 113, 127, 131, 137, 139, 149, 151, 157, 163, 167, 173, 179, 181, 191, 193, 197, 199, 211, 223, 227, 229, 233, 239, 241, 251, 257, 263, 269, 271, 277, 281, 283, 293, 307, 311, 313, 317, 331, 337, 347, 349, 353, 359, 367, 373, 379, 383, 389, 397, 401, 409, 419, 421, 431, 433, 439, 443, 449, 457, 461, 463, 467, 479, 487, 491, 499, 503, 509, 521, 523, 541, 547, 557, 563, 569, 571, 577, 587, 593, 599, 601, 607, 613, 617, 619, 631, 641, 643, 647, 653, 659, 661, 673, 677, 683, 691, 701, 709, 719, 727, 733, 739, 743, 751, 757, 761, 769, 773, 787, 797, 809, 811, 821, 823, 827, 829, 839, 853, 857, 859, 863, 877, 881, 883, 887, 907, 911, 919, 929, 937, 941, 947, 953, 967, 971, 977, 983, 991, 997]\n"
     ]
    }
   ],
   "source": [
    "list = []\n",
    "N =  int(input(\"Enter a number:\\t\"))\n",
    "for i in range(2,N):\n",
    "    is_prime = True\n",
    "    for j in range(2,i):\n",
    "        if (i%j==0):\n",
    "            is_prime= False\n",
    "            break\n",
    "    if (is_prime):\n",
    "        list.append(i)\n",
    "print(list)"
   ]
  },
  {
   "cell_type": "code",
   "execution_count": 62,
   "id": "6cc46572-b9ed-45b3-ae1f-ae7d68dba5ba",
   "metadata": {},
   "outputs": [
    {
     "name": "stdin",
     "output_type": "stream",
     "text": [
      "Enter a number:\t 50\n"
     ]
    },
    {
     "name": "stdout",
     "output_type": "stream",
     "text": [
      "[1, 3, 5, 7, 9, 11, 13, 15, 17, 19, 21, 23, 25, 27, 29, 31, 33, 35, 37, 39, 41, 43, 45, 47]\n"
     ]
    }
   ],
   "source": [
    "N = int(input(\"Enter a number:\\t\"))\n",
    "list=[]\n",
    "sum = 0\n",
    "for i in range(1,int(N/2)):\n",
    "    sum = i+(i-1)\n",
    "    list.append(sum)\n",
    "print(list)"
   ]
  },
  {
   "cell_type": "code",
   "execution_count": 4,
   "id": "08ccda6f-4254-49b7-9337-6db51af078b8",
   "metadata": {},
   "outputs": [
    {
     "name": "stdout",
     "output_type": "stream",
     "text": [
      "ramesh is my name and i am 30 year old\n"
     ]
    }
   ],
   "source": [
    "class person():\n",
    "    def __init__(self,name=None,age=None):\n",
    "        self.name = name\n",
    "        self.age = age\n",
    "    def show(self):\n",
    "        print(f\"{self.name} is my name and i am {self.age} year old\")\n",
    "person_1 = person(\"ramesh\",30)\n",
    "person_1.show()"
   ]
  },
  {
   "cell_type": "code",
   "execution_count": 40,
   "id": "692acda1-ebaa-451c-a17c-5ab9a475b5f1",
   "metadata": {},
   "outputs": [
    {
     "name": "stdout",
     "output_type": "stream",
     "text": [
      "radius :\t 7\n",
      "area 153.86\n",
      "circum 43.96\n"
     ]
    }
   ],
   "source": [
    "class circle():\n",
    "    def __init__(self,radius):\n",
    "        self.radius = radius\n",
    "    def set_radius(self,radius):\n",
    "        self.radius = radius\n",
    "    def get_radius(self):\n",
    "        return self.radius\n",
    "    def get_area(self):\n",
    "        return 3.14 * self.radius *self.radius\n",
    "    def circumfarance(self):\n",
    "        circum = 2* 3.14 * self.radius\n",
    "        return circum\n",
    "circle_ = circle(5)\n",
    "circle_.set_radius(7)\n",
    "print(\"radius :\\t\",circle_.get_radius())\n",
    "print(\"area\",circle_.get_area())\n",
    "print(\"circum\",circle_.circumfarance())"
   ]
  },
  {
   "cell_type": "code",
   "execution_count": 24,
   "id": "d95632e4-edad-4845-96be-7753fd2702b7",
   "metadata": {},
   "outputs": [
    {
     "name": "stdout",
     "output_type": "stream",
     "text": [
      "dimentions:\t (15, 10)\n",
      "area 150\n"
     ]
    }
   ],
   "source": [
    "class rectangle():\n",
    "    def __init__ (self,length,breadth):\n",
    "        self.length = length\n",
    "        self.breadth = breadth\n",
    "    def setDimention(self,length,breadth):\n",
    "        self.length = length\n",
    "        self.breadth = breadth\n",
    "    def getDimention(self):\n",
    "        return (self.length,self.breadth)\n",
    "    def area(self):\n",
    "        return self.length * self.breadth\n",
    "rect_angle = rectangle(15,10)\n",
    "rect_angle.setDimention(15,10)\n",
    "print(\"dimentions:\\t\",rect_angle.getDimention())\n",
    "print(\"area\",rect_angle.area())"
   ]
  },
  {
   "cell_type": "code",
   "execution_count": 27,
   "id": "22053adb-d180-4927-a0f7-76f016ddd3f9",
   "metadata": {},
   "outputs": [
    {
     "name": "stdout",
     "output_type": "stream",
     "text": [
      "book details:\t (101, 'gita', 350)\n"
     ]
    }
   ],
   "source": [
    "class book():\n",
    "    def __init__ (self,bookid,title,price):\n",
    "        self.bookid = bookid\n",
    "        self.title =  title\n",
    "        self.price = price\n",
    "    def ShowDetails(self):\n",
    "        return (self.bookid,self.title,self.price)\n",
    "book1 = book(101,\"gita\",350)\n",
    "print(\"book details:\\t\",book1.ShowDetails())"
   ]
  },
  {
   "cell_type": "code",
   "execution_count": null,
   "id": "c66c1ee1-01f9-44bf-8750-df469986db12",
   "metadata": {},
   "outputs": [],
   "source": [
    "class team():\n",
    "    def __init__ (self, team_member):\n",
    "        self.team_member = team_member\n",
    "    def show_member(self):\n",
    "        list =[]\n",
    "        list.append()"
   ]
  }
 ],
 "metadata": {
  "kernelspec": {
   "display_name": "Python 3 (ipykernel)",
   "language": "python",
   "name": "python3"
  },
  "language_info": {
   "codemirror_mode": {
    "name": "ipython",
    "version": 3
   },
   "file_extension": ".py",
   "mimetype": "text/x-python",
   "name": "python",
   "nbconvert_exporter": "python",
   "pygments_lexer": "ipython3",
   "version": "3.11.7"
  }
 },
 "nbformat": 4,
 "nbformat_minor": 5
}
